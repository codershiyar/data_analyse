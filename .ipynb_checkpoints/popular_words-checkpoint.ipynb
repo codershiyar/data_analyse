{
 "cells": [
  {
   "cell_type": "code",
   "execution_count": 7,
   "id": "bb08745f",
   "metadata": {},
   "outputs": [
    {
     "name": "stdout",
     "output_type": "stream",
     "text": [
      "defaultdict(<class 'int'>, {'Goede': 8, 'functionele': 1, 'jas': 110, 'Top': 12, 'Gaaf': 1, 'jasje': 1, 'Al': 1, 'met': 4, 'al': 3, 'de': 20, 'perfecte': 3, 'vest': 1, 'Prima': 21, 'Jas': 8, 'niet': 4, 'passend': 1, 'helaas': 1, 'is': 6, 'te': 6, 'kort': 1, 'voor': 23, 'maat': 6, 'Fijne': 12, 'tussenjas': 1, 'Oke': 1, 'Lekker': 5, 'jack': 3, 'om': 2, 'snel': 1, 'even': 1, 'bij': 1, 'je': 2, 'steken': 1, 'Mooie': 7, 'Hele': 6, 'Superfijne': 2, 'softshell': 2, 'sunflower': 1, 'Net': 1, 'zo': 2, 'goed': 10, 'als': 4, 'concurrenten': 1, 'die': 5, 'x': 1, 'duur': 1, 'zijn': 1, 'Nice': 1, 'Niet': 1, 'geheel': 1, 'winddicht': 3, 'beschermt': 1, 'tegen': 1, 'wind': 3, 'Super': 14, 'fijn': 2, 'Prachtige': 2, 'een': 17, 'mooie': 8, 'prijs': 12, 'Perfecte': 7, 'deze': 2, 'koude': 3, 'dagen': 5, 'Heerlijke': 10, 'verwarment': 1, 'Geweldig': 5, 'winterjas': 13, 'parka': 5, 'Perfect': 5, 'en': 22, 'lekker': 5, 'warm': 13, 'O': 1, 'Gewedlige': 1, 'warme': 23, 'geweldige': 3, 'Echt': 3, 'top': 4, 'Ben': 1, 'er': 4, 'super': 2, 'blij': 1, 'mee': 2, 'Eindelijk': 1, 'Een': 8, 'fijne': 17, 'waterdichte': 4, 'goede': 3, 'Uitstekende': 1, 'kwaliteit': 4, 'mooi': 1, 'prijsje': 2, 'De': 2, 'het': 4, 'na': 2, 'jaar': 1, 'Gewoon': 1, 'echte': 3, 'Antarctisch': 1, 'proof': 1, 'prima': 3, 'Superwarm': 1, 'Gave': 1, 'uitstraling': 1, 'smilingfacewithclosedeyes': 1, 'Ook': 1, 'Geweldige': 4, 'waardeloos': 1, 'verpakt': 1, 'Ideale': 2, 'Zware': 1, 'Goed': 3, 'op': 4, 'scooter': 1, 'Ik': 3, 'gebruik': 2, 'paard': 1, 'werkt': 1, 'Heerlijk': 2, 'scheurt': 1, 'net': 1, 'boven': 2, 'borst': 1, 'funcioneel': 1, 'aankooptotaal': 1, 'geen': 4, 'spijt': 1, 'Past': 1, 'geld': 2, 'zit': 3, 'perfect': 4, 'van': 5, 'pre': 1, 'fantastiche': 1, 'maar': 5, 'n': 1, 'minpuntje': 1, 'heb': 3, 'elke': 3, 'dag': 3, 'plezier': 2, 'comfortabel': 2, 'regendicht': 1, 'Fantastisch': 2, 'Nooit': 1, 'meer': 3, 'Woolrich': 1, 'kou': 1, 'maakt': 1, 'schijn': 1, 'kans': 1, 'Meer': 1, 'dan': 1, 'voldoet': 1, 'aan': 2, 'alles': 1, 'winter': 3, 'Kwaliteit': 1, 'Vind': 1, 'comfortabele': 2, 'heerlijke': 2, 'Vlugge': 1, 'bezorging': 1, 'mag': 1, 'verwachte': 1, 'Zeer': 2, 'Ziet': 1, 'erg': 2, 'uit': 1, 'pasvorm': 2, 'geweldig': 1, 'juist': 1, 'heerlijk': 2, 'online': 1, 'besteldomgeruild': 1, 'aangezien': 1, 'eng': 1, 'uitvalt': 1, 'degelijke': 1, 'Warme': 3, 'Sportieve': 1, 'Lekkere': 2, 'laat': 1, 'komen': 1, 'bestel': 1, 'L': 1, 'krijg': 1, 'ik': 5, 'XL': 1, 'opgestuurd': 1, 'Maakt': 1, 'belofte': 1, 'waar': 1, 'zware': 1, 'Winterjas': 1, 'Houd': 1, 'me': 1, 'flinke': 1, 'kanttekeningen': 1, 'Great': 1, 'wintercoat': 1, 'echt': 2, 'buiten': 1, 'pa': 1, 'lichte': 2, 'Very': 1, 'good': 1, 'klein': 5, 'Waterdicht': 1, 'Warm': 1, 'Het': 2, 'artikel': 1, 'zoals': 1, 'aanbevolen': 1, 'wordt': 1, 'klopt': 1, 'Voir': 1, 'dat': 2, 'ontzettend': 1, 'lekkere': 1, 'verwachting': 3, 'weer': 1, 'waterdicht': 3, 'regenjas': 5, 'regenachtige': 1, 'prachtige': 1, 'zomer': 1, 'Superjas': 1, 'Voldoet': 1, 'had': 1, 'groene': 1, 'nu': 1, 'ook': 3, 'blauwe': 1, 'model': 1, 'qua': 1, 'uiterlijk': 1, 'Fantastische': 3, 'Boven': 1, 'past': 1, 'Tevreden': 1, 'Ruime': 1, 'fiets': 2, 'in': 5, 'hard': 1, 'lopen': 1, 'Erg': 2, 'waterafstotende': 1, 'Veel': 1, 'jammer': 1, 'Valt': 1, 'mega': 1, 'door': 1, 'luchtgaten': 1, 'Veeeel': 1, 'Winddicht': 2, 'cute': 2, 'hele': 2, 'draag': 2, 'heel': 4, 'stof': 2, 'snit': 2, 'beetje': 2, 'smal': 2, 'schouders': 2, 'dunne': 2, 'Blij': 1, 'Mooi': 1, 'Ja': 1, 'gewoon': 1, 'allemaal': 1, 'Eerste': 1, 'gekocht': 1, 'merk': 1, 'Quechua': 1, 'omdat': 1, 'spr': 1, 'Te': 1, 'zowel': 1, 'lente': 1, 'Heel': 1, 'veel': 1, 'gehad': 1, 'herfst': 1, 'prijskwaliteitsverhouding': 1, 'grootste': 1})\n"
     ]
    }
   ],
   "source": [
    "import csv\n",
    "from collections import defaultdict\n",
    "import re\n",
    "\n",
    "# create a defaultdict to keep track of word counts\n",
    "word_count = defaultdict(int)\n",
    "\n",
    "# open the CSV file and read it using the csv module\n",
    "with open('data/reviews.csv', 'r') as file:\n",
    "    reader = csv.DictReader(file)\n",
    "    \n",
    "    # iterate over each row in the file\n",
    "    for row in reader:\n",
    "        # extract the review title from the row\n",
    "        title = row['title']\n",
    "        \n",
    "        # remove any non-letter characters, except spaces\n",
    "        title = re.sub(r'[^a-zA-Z\\s]', '', title)\n",
    "        \n",
    "        # split the title into individual words\n",
    "        words = title.split()\n",
    "        \n",
    "        # iterate over each word in the title and increment its count in the defaultdict\n",
    "        for word in words:\n",
    "            word_count[word] += 1\n",
    "\n",
    "# print the final word count dictionary\n",
    "print(word_count)"
   ]
  }
 ],
 "metadata": {
  "kernelspec": {
   "display_name": "Python 3 (ipykernel)",
   "language": "python",
   "name": "python3"
  },
  "language_info": {
   "codemirror_mode": {
    "name": "ipython",
    "version": 3
   },
   "file_extension": ".py",
   "mimetype": "text/x-python",
   "name": "python",
   "nbconvert_exporter": "python",
   "pygments_lexer": "ipython3",
   "version": "3.10.9"
  }
 },
 "nbformat": 4,
 "nbformat_minor": 5
}
