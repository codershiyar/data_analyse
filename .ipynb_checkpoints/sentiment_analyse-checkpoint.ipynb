{
 "cells": [
  {
   "cell_type": "code",
   "execution_count": 5,
   "id": "cd31b8d4",
   "metadata": {
    "scrolled": false
   },
   "outputs": [
    {
     "name": "stdout",
     "output_type": "stream",
     "text": [
      "Number of negative reviews: 14\n",
      "Number of neutral reviews: 27\n",
      "Number of positive reviews: 188\n"
     ]
    },
    {
     "data": {
      "image/png": "[encoded data removed]",
      "text/plain": [
       "<Figure size 640x480 with 1 Axes>"
      ]
     },
     "metadata": {},
     "output_type": "display_data"
    }
   ],
   "source": [
    "import csv\n",
    "import re\n",
    "import json\n",
    "import matplotlib.pyplot as plt\n",
    "\n",
    "# Load word list from json file\n",
    "def get_word_list(category):\n",
    "    with open(\"data/\"+category + '.json', 'r') as f:\n",
    "        word_list = json.load(f)\n",
    "    return word_list\n",
    "\n",
    "# Determine sentiment of a review\n",
    "def get_sentiment(review):\n",
    "    review = re.sub('[^\\w\\s]', '', review).lower()\n",
    "    positive_words = get_word_list('positive_words')\n",
    "    negative_words = get_word_list('negative_words')\n",
    "    words = review.split()\n",
    "    positive_count = 0\n",
    "    negative_count = 0\n",
    "    for word in words:\n",
    "        if word[:-1] in [w.lower() for w in positive_words] or word in [w.lower() for w in positive_words]:\n",
    "            positive_count += 1 \n",
    "        elif word in [w.lower() for w in negative_words] or word[:-1] in [w.lower() for w in negative_words]:\n",
    "            negative_count += 1\n",
    "    if positive_count > negative_count:\n",
    "        return 'positive'\n",
    "    elif negative_count > positive_count:\n",
    "        return 'negative'\n",
    "    else:\n",
    "        return 'neutral'\n",
    "\n",
    "# Initialize sentiment counter\n",
    "reviews_sentiment = {\"positive\": 0, \"negative\": 0, \"neutral\": 0 }\n",
    "\n",
    "# Read reviews from CSV file and update sentiment counter\n",
    "with open('data/reviews.csv', newline='') as csvfile:\n",
    "    reader = csv.DictReader(csvfile)\n",
    "    for row in reader:\n",
    "        if row['title']:    \n",
    "            sentiment = get_sentiment(row['title'])\n",
    "            reviews_sentiment[sentiment] += 1\n",
    "\n",
    "# Print sentiment counts\n",
    "print(f\"Number of negative reviews: {reviews_sentiment['negative']}\")\n",
    "print(f\"Number of neutral reviews: {reviews_sentiment['neutral']}\")            \n",
    "print(f\"Number of positive reviews: {reviews_sentiment['positive']}\")\n",
    "\n",
    "# Plot sentiment bar chart\n",
    "left = [1, 2, 3]\n",
    "tick_label = ['Negative', 'Neutral', 'Positive']\n",
    "plt.bar(left, height=(reviews_sentiment['negative'],reviews_sentiment['neutral'],reviews_sentiment['positive']), \n",
    "        tick_label=tick_label, width=0.8, color=( \"#FA332D\",\"#3E3F3F\",\"#06B076\"))\n",
    "plt.title('Customer Satisfaction Statistics')\n",
    "plt.show()"
   ]
  }
 ],
 "metadata": {
  "kernelspec": {
   "display_name": "Python 3 (ipykernel)",
   "language": "python",
   "name": "python3"
  },
  "language_info": {
   "codemirror_mode": {
    "name": "ipython",
    "version": 3
   },
   "file_extension": ".py",
   "mimetype": "text/x-python",
   "name": "python",
   "nbconvert_exporter": "python",
   "pygments_lexer": "ipython3",
   "version": "3.10.9"
  },
  "vscode": {
   "interpreter": {
    "hash": "3c06e3e46abf38078fe4dac36a0085ec2b134ebbd73dd076183d243eeca6918f"
   }
  }
 },
 "nbformat": 4,
 "nbformat_minor": 5
}
