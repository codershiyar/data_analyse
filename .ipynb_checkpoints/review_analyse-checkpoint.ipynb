{
 "cells": [
  {
   "cell_type": "code",
   "execution_count": 1,
   "id": "cd31b8d4",
   "metadata": {
    "scrolled": false
   },
   "outputs": [
    {
     "name": "stdout",
     "output_type": "stream",
     "text": [
      "Oke  neutraal\n",
      ":sunflower:  neutraal\n",
      "verwarment  neutraal\n",
      "O  neutraal\n",
      "Eindelijk!!!  neutraal\n",
      "Antarctisch proof  neutraal\n",
      "Superwarm  neutraal\n",
      "Zware warme jas  neutraal\n",
      "Geweldige aankoop.totaal geen spijt.  neutraal\n",
      "Jas  neutraal\n",
      "fantastiche jas met maar één minpuntje  neutraal\n",
      "Kwaliteit  neutraal\n",
      "Vlugge bezorging en kwaliteit die je mag verwachte  neutraal\n",
      "Zeer warme, wind waterdichte Jas  neutraal\n",
      "online besteld,omgeruild aangezien jas eng uitvalt  neutraal\n",
      "Warme jas  neutraal\n",
      "bestel een L krijg ik na 8 dagen een XL opgestuurd  neutraal\n",
      "Winterjas  neutraal\n",
      "Warme winterjas  neutraal\n",
      "Prima jas voor een klein prijsje  neutraal\n",
      "Waterdicht en warm  neutraal\n",
      "Warme jas  neutraal\n",
      "Superjas  neutraal\n",
      "Ik had al een groene, nu ook een blauwe  neutraal\n",
      "Ruime, echt waterdichte jas  neutraal\n",
      "Winddicht en warm  neutraal\n",
      "Really worth the price.  neutraal\n",
      "The size is what i expected  neutraal\n",
      "Winddicht en warm  neutraal\n",
      "Really worth the price.  neutraal\n",
      "The size is what i expected  neutraal\n",
      "Mooi jas  neutraal\n",
      "Eerste ik heb gekocht de merk Quechua omdat ik spr  neutraal\n",
      "grootste maat  neutraal\n",
      "Aantal negatieve reviews: 15\n",
      "Aantal neutrale reviews: 34\n",
      "Aantal positieve reviews: 184\n"
     ]
    },
    {
     "data": {
      "image/png": "[encoded data removed]",
      "text/plain": [
       "<Figure size 640x480 with 1 Axes>"
      ]
     },
     "metadata": {},
     "output_type": "display_data"
    }
   ],
   "source": [
    "import csv\n",
    "import re\n",
    "import json\n",
    "import matplotlib.pyplot as plt\n",
    "\n",
    "def get_word_list(category):\n",
    "    with open(\"data/\"+category + '.json', 'r') as f:\n",
    "        word_list = json.load(f)\n",
    "    return word_list\n",
    "\n",
    "def get_sentiment(review):\n",
    "    review =re.sub('[^\\w\\s]', '', review).lower()\n",
    "    positive_words = get_word_list('positive_woorden')\n",
    "    negative_words = get_word_list('negatieve_woorden')\n",
    "    words = review.split()\n",
    "    positive_count = 0\n",
    "    negative_count = 0\n",
    "    for word in words:\n",
    "        if word[:-1] in [w.lower() for w in positive_words] or word in [w.lower() for w in positive_words]:\n",
    "            positive_count += 1 \n",
    "        elif word in [w.lower() for w in negative_words] or word[:-1] in [w.lower() for w in negative_words]:\n",
    "            negative_count += 1\n",
    "    if positive_count > negative_count:\n",
    "        return 'positief'\n",
    "    elif negative_count > positive_count:\n",
    "        return 'negatief'\n",
    "    else:\n",
    "        return 'neutraal'\n",
    "    \n",
    "aantal_positief = 0\n",
    "aantal_negatief = 0\n",
    "aantal_neutraal = 0\n",
    "with open('data/reviews.csv', newline='') as csvfile:\n",
    "    reader = csv.DictReader(csvfile)\n",
    "    for row in reader:\n",
    "        if row['title']:    \n",
    "            sentiment = get_sentiment(row['title'])\n",
    "            if sentiment == 'positief':\n",
    "                aantal_positief += 1\n",
    "            elif sentiment == 'negatief':\n",
    "                aantal_negatief += 1\n",
    "            else:\n",
    "                aantal_neutraal += 1\n",
    "            if    sentiment == 'neutraal':\n",
    "                print(f\"{row['title']}  {sentiment}\")\n",
    "            \n",
    "# Print de tellers\n",
    "print(f\"Aantal negatieve reviews: {aantal_negatief}\")\n",
    "print(f\"Aantal neutrale reviews: {aantal_neutraal}\")            \n",
    "print(f\"Aantal positieve reviews: {aantal_positief}\")\n",
    "\n",
    "left = [1, 2, 3]\n",
    "# labels for bars\n",
    "tick_label = ['Negatief', 'Neutraal', 'Positief']\n",
    "# plotting a bar chart \n",
    "plt.bar(left, height=(aantal_negatief,aantal_neutraal,aantal_positief), tick_label=tick_label, width=0.8, color=( \"#FA332D\",\"#3E3F3F\",\"#06B076\"))\n",
    "# plot title\n",
    "plt.title('Statiek van klanten tevredenheid')\n",
    "# function to show the plot\n",
    "plt.show()  \n",
    "    "
   ]
  }
 ],
 "metadata": {
  "kernelspec": {
   "display_name": "Python 3 (ipykernel)",
   "language": "python",
   "name": "python3"
  },
  "language_info": {
   "codemirror_mode": {
    "name": "ipython",
    "version": 3
   },
   "file_extension": ".py",
   "mimetype": "text/x-python",
   "name": "python",
   "nbconvert_exporter": "python",
   "pygments_lexer": "ipython3",
   "version": "3.10.9"
  },
  "vscode": {
   "interpreter": {
    "hash": "3c06e3e46abf38078fe4dac36a0085ec2b134ebbd73dd076183d243eeca6918f"
   }
  }
 },
 "nbformat": 4,
 "nbformat_minor": 5
}
